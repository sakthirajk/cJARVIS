{
 "cells": [
  {
   "cell_type": "code",
   "execution_count": null,
   "metadata": {},
   "outputs": [],
   "source": [
    "# pip install ipywidgets\n",
    "# pip install joblib\n",
    "# pip install nltk\n",
    "# pip install pandas\n",
    "# pip install pyaudio\n",
    "# pip install pyttsx3\n",
    "# pip install queue\n",
    "# pip install scikit-learn\n",
    "# pip install SpeechRecognition\n",
    "# pip install sounddevice\n",
    "# pip install librosa\n",
    "# pip install matplotlib\n",
    "# pip install scipy\n",
    "# pip install vosk"
   ]
  },
  {
   "cell_type": "code",
   "execution_count": 1,
   "metadata": {},
   "outputs": [
    {
     "data": {
      "application/vnd.jupyter.widget-view+json": {
       "model_id": "95175a97355e4b08a41a78cb54e58a26",
       "version_major": 2,
       "version_minor": 0
      },
      "text/plain": [
       "Button(button_style='success', description='Record', icon='microphone', style=ButtonStyle(), tooltip='Record')"
      ]
     },
     "metadata": {},
     "output_type": "display_data"
    },
    {
     "data": {
      "application/vnd.jupyter.widget-view+json": {
       "model_id": "6e4ab0567df94e71af39f459acedb45f",
       "version_major": 2,
       "version_minor": 0
      },
      "text/plain": [
       "Button(button_style='warning', description='Stop', icon='stop', style=ButtonStyle(), tooltip='Stop')"
      ]
     },
     "metadata": {},
     "output_type": "display_data"
    },
    {
     "data": {
      "application/vnd.jupyter.widget-view+json": {
       "model_id": "d34e5ee5232e48e0aaf91c8e88a12e80",
       "version_major": 2,
       "version_minor": 0
      },
      "text/plain": [
       "Output(layout=Layout(border_bottom='2px solid black', border_left='2px solid black', border_right='2px solid b…"
      ]
     },
     "metadata": {},
     "output_type": "display_data"
    },
    {
     "data": {
      "application/vnd.jupyter.widget-view+json": {
       "model_id": "aeb80d02f5564d12858d088b0d539426",
       "version_major": 2,
       "version_minor": 0
      },
      "text/plain": [
       "Button(button_style='info', description='Clear', icon='eraser', style=ButtonStyle(), tooltip='Clear')"
      ]
     },
     "metadata": {},
     "output_type": "display_data"
    }
   ],
   "source": [
    "import ipywidgets as widgets\n",
    "import threading\n",
    "from IPython.display import display\n",
    "from queue import Queue\n",
    "from threading import Thread\n",
    "\n",
    "messages = Queue()\n",
    "recordings = Queue()\n",
    "\n",
    "# widget buttons for the project is defined here..\n",
    "\n",
    "record_button = widgets.Button(\n",
    "    description='Record',\n",
    "    disabled=False,\n",
    "    button_style='success',\n",
    "    tooltip='Record',\n",
    "    icon='microphone'\n",
    ")\n",
    "\n",
    "stop_button = widgets.Button(\n",
    "    description='Stop',\n",
    "    disabled=False,\n",
    "    button_style='warning',\n",
    "    tooltip='Stop',\n",
    "    icon='stop'\n",
    ")   \n",
    "\n",
    "clear_button = widgets.Button(\n",
    "    description='Clear',\n",
    "    disabled=False,\n",
    "    button_style='info',\n",
    "    tooltip='Clear',\n",
    "    icon='eraser'\n",
    ")   \n",
    "\n",
    "# setting up the output widget display area with a border.\n",
    "\n",
    "output = widgets.Output(layout={'border': '2px solid black'})\n",
    "\n",
    "# When clicked on \"Record\" button, widget will start multiple thread to record microphone and transcribe the recorded audio.\n",
    "\n",
    "def start_recording(data):\n",
    "    output.clear_output() \n",
    "    messages.put(True)\n",
    "\n",
    "    with output:\n",
    "        display(\"Started Recording...\")\n",
    "        record = Thread(target=record_microphone)\n",
    "        record.start()\n",
    "        transcribe = Thread(target=speech_recognition, args=(output,))\n",
    "        transcribe.start()\n",
    "\n",
    "# Once \"Stop\" is clicked, all thread will be switched off and recording will be stopped.\n",
    "\n",
    "def stop_recording(data):\n",
    "    with output:\n",
    "        messages.get()\n",
    "        display(\"Stopped Recording.\")\n",
    "\n",
    "# This is to clear the output widget.\n",
    "\n",
    "def clear_display_area(data):\n",
    "    output.clear_output()\n",
    "\n",
    "   \n",
    "record_button.on_click(start_recording)\n",
    "stop_button.on_click(stop_recording)\n",
    "clear_button.on_click(clear_display_area)\n",
    "\n",
    "display(record_button, stop_button, output, clear_button)   "
   ]
  },
  {
   "cell_type": "code",
   "execution_count": 2,
   "metadata": {},
   "outputs": [],
   "source": [
    "import json\n",
    "from vosk import Model, KaldiRecognizer\n",
    "\n",
    "model = Model(model_name=\"vosk-model-en-us-0.22\")"
   ]
  },
  {
   "cell_type": "code",
   "execution_count": 3,
   "metadata": {},
   "outputs": [],
   "source": [
    "import pyttsx3\n",
    "\n",
    "def speak_text(text):\n",
    "    engine = pyttsx3.init()\n",
    "    engine.say(text)\n",
    "    engine.runAndWait()"
   ]
  },
  {
   "cell_type": "code",
   "execution_count": 4,
   "metadata": {},
   "outputs": [],
   "source": [
    "import pandas as pd\n",
    "import nltk\n",
    "from nltk.stem import PorterStemmer\n",
    "from sklearn.feature_extraction.text import TfidfVectorizer\n",
    "import re\n",
    "import os\n",
    "import joblib\n",
    "import pickle\n",
    "import warnings\n",
    "\n",
    "warnings.filterwarnings('ignore')\n",
    "\n",
    "# Defining port stemmer \n",
    "porter = PorterStemmer()\n",
    "\n",
    "# Get the current working directory (where the script is being executed)\n",
    "current_dir = os.getcwd()\n",
    "\n",
    "# Loading the tfidf vectorizer\n",
    "vectorizer_path = os.path.join(current_dir, \"tfidf_vectorizer.pkl\")\n",
    "with open(vectorizer_path, 'rb') as f:\n",
    "    Tfidf_Vectorizer = pickle.load(f)\n",
    "\n",
    "# Loading the Model\n",
    "model_path = os.path.join(current_dir, \"Threat_identifier_SVM.joblib\")\n",
    "TI_model = joblib.load(model_path)\n"
   ]
  },
  {
   "cell_type": "code",
   "execution_count": 5,
   "metadata": {},
   "outputs": [
    {
     "name": "stdout",
     "output_type": "stream",
     "text": [
      "Input Device id  0  -  Microsoft Sound Mapper - Input\n",
      "Input Device id  1  -  Headset Microphone (Jabra Link \n",
      "Input Device id  2  -  Digital Microphone (Cirrus Logi\n"
     ]
    }
   ],
   "source": [
    "import pyaudio\n",
    "p = pyaudio.PyAudio()\n",
    "info = p.get_host_api_info_by_index(0)\n",
    "numdevices = info.get('deviceCount')\n",
    "\n",
    "for i in range(0, numdevices):\n",
    "    if (p.get_device_info_by_host_api_device_index(0, i).get('maxInputChannels')) > 0:\n",
    "        print(\"Input Device id \", i, \" - \", p.get_device_info_by_host_api_device_index(0, i).get('name'))"
   ]
  },
  {
   "cell_type": "code",
   "execution_count": 6,
   "metadata": {},
   "outputs": [],
   "source": [
    "CHANNELS = 1\n",
    "FRAME_RATE = 44100\n",
    "chunk=512\n",
    "RECORD_SECONDS = 6\n",
    "AUDIO_FORMAT = pyaudio.paInt16\n",
    "SAMPLE_SIZE = 2\n",
    "\n",
    "def record_microphone(chunk=512):\n",
    "    p = pyaudio.PyAudio()\n",
    "\n",
    "    stream = p.open(format=AUDIO_FORMAT,\n",
    "                    channels=CHANNELS,\n",
    "                    rate=FRAME_RATE,\n",
    "                    input=True,\n",
    "                    input_device_index=1,\n",
    "                    frames_per_buffer=chunk)\n",
    "\n",
    "    frames = []\n",
    "\n",
    "    while not messages.empty():\n",
    "        data = stream.read(chunk)\n",
    "        frames.append(data)\n",
    "        if len(frames) >= (FRAME_RATE * RECORD_SECONDS) / chunk:\n",
    "            recordings.put(frames.copy())\n",
    "            frames = []\n",
    "\n",
    "    stream.stop_stream()\n",
    "    stream.close()\n",
    "    p.terminate()"
   ]
  },
  {
   "cell_type": "code",
   "execution_count": 7,
   "metadata": {},
   "outputs": [],
   "source": [
    "rec = KaldiRecognizer(model, FRAME_RATE)\n",
    "rec.SetWords(True)\n",
    "\n",
    "@output.capture()\n",
    "def speech_recognition(output):\n",
    "    \n",
    "    while not messages.empty():\n",
    "        frames = recordings.get()\n",
    "        \n",
    "        rec.AcceptWaveform(b''.join(frames))\n",
    "        result = rec.Result()\n",
    "        text = json.loads(result)[\"text\"]\n",
    "        output.append_stdout(text + '\\n')\n",
    "        prediction = predict_sentiment(text)\n",
    "        if((prediction == 1)):\n",
    "            msg = \"This is VIOLENT or OFFENSIVE : I am making EMERGENCY call...\"\n",
    "            speak_text(msg)\n",
    "            output.append_stdout('\\t' + msg + '\\n')\n",
    "        else:\n",
    "            msg = \"I see this as a NORMAL conversation, I am NOT making emergency calls...\"\n",
    "            speak_text(msg)\n",
    "            output.append_stdout('\\t' + msg + '\\n')\n",
    "            "
   ]
  },
  {
   "cell_type": "code",
   "execution_count": 8,
   "metadata": {},
   "outputs": [],
   "source": [
    "\n",
    "def predict_sentiment(sentence):\n",
    "    # Define the cleaning function\n",
    "    def clean_and_stem_text(text):\n",
    "        text = re.sub(r'\\n', ' ', text)  # Replace line breaks with space\n",
    "        text = re.sub(r'\\d+', '', text)  # Remove digits\n",
    "        text = re.sub(r'[^\\w\\s]', '', text)  # Remove punctuation\n",
    "        text = text.lower()  # Convert to lowercase\n",
    "        words = text.split()  # Split text into words\n",
    "        stemmed_words = [porter.stem(word) for word in words]  # Stem each word\n",
    "        return ' '.join(stemmed_words)\n",
    "    \n",
    "    # Define the cleaning pipeline\n",
    "    cleaned_sentence = clean_and_stem_text(sentence)\n",
    "    \n",
    "    # Convert the cleaned sentence into a Series\n",
    "    sentence_series = pd.Series(cleaned_sentence)\n",
    "    \n",
    "    # Convert the cleaned sentence into TF-IDF vector format\n",
    "    sentence_tfidf = Tfidf_Vectorizer.transform(sentence_series)\n",
    "    \n",
    "    # Make prediction using the classifier\n",
    "    prediction = TI_model.predict(sentence_tfidf)\n",
    "    \n",
    "    return prediction"
   ]
  },
  {
   "cell_type": "code",
   "execution_count": null,
   "metadata": {},
   "outputs": [],
   "source": []
  }
 ],
 "metadata": {
  "kernelspec": {
   "display_name": "Python 3 (ipykernel)",
   "language": "python",
   "name": "python3"
  },
  "language_info": {
   "codemirror_mode": {
    "name": "ipython",
    "version": 3
   },
   "file_extension": ".py",
   "mimetype": "text/x-python",
   "name": "python",
   "nbconvert_exporter": "python",
   "pygments_lexer": "ipython3",
   "version": "3.11.10"
  }
 },
 "nbformat": 4,
 "nbformat_minor": 4
}
